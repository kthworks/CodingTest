{
 "cells": [
  {
   "cell_type": "markdown",
   "id": "99794155",
   "metadata": {},
   "source": [
    "**2020 KAKAO BLIND RECRUITMENT**  \n",
    "**LEVEL : 2**   \n",
    "[문제링크](https://programmers.co.kr/learn/courses/30/lessons/60058)"
   ]
  },
  {
   "cell_type": "code",
   "execution_count": 15,
   "id": "f1c50647",
   "metadata": {},
   "outputs": [],
   "source": [
    "p = \"(()())()\""
   ]
  },
  {
   "cell_type": "code",
   "execution_count": 16,
   "id": "8afe5be5",
   "metadata": {},
   "outputs": [],
   "source": [
    "def solution(p):\n",
    "    \n",
    "    # 1. 입력이 빈 문자열인 경우\n",
    "    answer = \"\"\n",
    "    if not p:\n",
    "        return \"\"\n",
    "        \n",
    "    # 2. 문자열 p를 u, v로 분리\n",
    "    u,v = \"\",\"\"\n",
    "    for i in range(len(p)):\n",
    "        if i>1 and u.count('(') == u.count(')'):\n",
    "            v=p[i:]\n",
    "            break\n",
    "        else: \n",
    "            u+=p[i]\n",
    "            \n",
    "    # 3. 문자열 u가 '올바른 괄호 문자열'이면 v에 대해 다시 수행\n",
    "    check = []\n",
    "    for t in u:\n",
    "        check.append(t)\n",
    "        if len(check)>1 and check[-2]=='(' and check[-1] == ')':\n",
    "            check.pop(-1)\n",
    "            check.pop(-1)\n",
    "        \n",
    "    if not check:\n",
    "        return u+solution(v)  # 3-1. 수행한 결과 문자열을 u에 이어붙인 후 반환\n",
    "    \n",
    "    # 4. 문자열 u가 '올바른 괄호 문자열'이 아니라면\n",
    "    else:\n",
    "        dict = {'(':')', ')':'('}\n",
    "        return '(' + solution(v) + ')' + ''.join([dict[j] for j in u[1:-1]])  # 4-1 ~ 4-5"
   ]
  },
  {
   "cell_type": "code",
   "execution_count": 17,
   "id": "3c81676e",
   "metadata": {},
   "outputs": [
    {
     "data": {
      "text/plain": [
       "'(()())()'"
      ]
     },
     "execution_count": 17,
     "metadata": {},
     "output_type": "execute_result"
    }
   ],
   "source": [
    "solution(p)"
   ]
  }
 ],
 "metadata": {
  "kernelspec": {
   "display_name": "Python 3 (ipykernel)",
   "language": "python",
   "name": "python3"
  },
  "language_info": {
   "codemirror_mode": {
    "name": "ipython",
    "version": 3
   },
   "file_extension": ".py",
   "mimetype": "text/x-python",
   "name": "python",
   "nbconvert_exporter": "python",
   "pygments_lexer": "ipython3",
   "version": "3.8.5"
  }
 },
 "nbformat": 4,
 "nbformat_minor": 5
}
