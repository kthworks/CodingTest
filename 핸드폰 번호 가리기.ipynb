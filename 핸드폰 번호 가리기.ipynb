{
 "cells": [
  {
   "cell_type": "markdown",
   "id": "fdfb6465",
   "metadata": {},
   "source": [
    "**연습문제**  \n",
    "**LEVEL : 1**   \n",
    "[문제링크](https://programmers.co.kr/learn/courses/30/lessons/12948)  "
   ]
  },
  {
   "cell_type": "code",
   "execution_count": 1,
   "id": "c3fa1ecf",
   "metadata": {},
   "outputs": [],
   "source": [
    "phone_number = '01033334444'"
   ]
  },
  {
   "cell_type": "code",
   "execution_count": 2,
   "id": "82d43067",
   "metadata": {},
   "outputs": [],
   "source": [
    "def solution(phone_number):\n",
    "    \n",
    "    return '*'*(len(phone_number)-4) + phone_number[-4:]"
   ]
  },
  {
   "cell_type": "code",
   "execution_count": 3,
   "id": "319c05ba",
   "metadata": {},
   "outputs": [
    {
     "data": {
      "text/plain": [
       "'*******4444'"
      ]
     },
     "execution_count": 3,
     "metadata": {},
     "output_type": "execute_result"
    }
   ],
   "source": [
    "solution(phone_number)"
   ]
  }
 ],
 "metadata": {
  "kernelspec": {
   "display_name": "Python 3 (ipykernel)",
   "language": "python",
   "name": "python3"
  },
  "language_info": {
   "codemirror_mode": {
    "name": "ipython",
    "version": 3
   },
   "file_extension": ".py",
   "mimetype": "text/x-python",
   "name": "python",
   "nbconvert_exporter": "python",
   "pygments_lexer": "ipython3",
   "version": "3.8.5"
  }
 },
 "nbformat": 4,
 "nbformat_minor": 5
}
