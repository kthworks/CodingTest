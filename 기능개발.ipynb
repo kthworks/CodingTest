{
 "cells": [
  {
   "cell_type": "markdown",
   "id": "a3267245",
   "metadata": {},
   "source": [
    "**스택/큐**  \n",
    "**LEVEL : 2**   \n",
    "[문제링크](https://programmers.co.kr/learn/courses/30/lessons/42586)  \n"
   ]
  },
  {
   "cell_type": "code",
   "execution_count": 98,
   "id": "653badf1",
   "metadata": {},
   "outputs": [],
   "source": [
    "progresses = [95, 90, 99, 99, 80, 99]\n",
    "speeds = [1,1,1,1,1,1]"
   ]
  },
  {
   "cell_type": "code",
   "execution_count": 102,
   "id": "ef02bc89",
   "metadata": {},
   "outputs": [],
   "source": [
    "def solution(progresses, speeds):\n",
    "    \n",
    "    import math\n",
    "    answer = []\n",
    "    timecost = [math.ceil((100-progresses[i])/speeds[i]) for i in range(len(speeds))]\n",
    "    \n",
    "    start = 0\n",
    "    tmp = 1\n",
    "    t = 1\n",
    "    while start+t<len(timecost):\n",
    "\n",
    "        if timecost[start]<timecost[start+t]:\n",
    "            answer.append(tmp)\n",
    "            start += t\n",
    "            tmp = 1\n",
    "            t = 1\n",
    "\n",
    "        else:\n",
    "            tmp+=1\n",
    "            t+=1\n",
    "\n",
    "    answer.append(tmp)\n",
    "    \n",
    "    return answer"
   ]
  },
  {
   "cell_type": "code",
   "execution_count": 104,
   "id": "4ddeabbd",
   "metadata": {},
   "outputs": [
    {
     "data": {
      "text/plain": [
       "[1, 3, 2]"
      ]
     },
     "execution_count": 104,
     "metadata": {},
     "output_type": "execute_result"
    }
   ],
   "source": [
    "solution(progresses, speeds)"
   ]
  }
 ],
 "metadata": {
  "kernelspec": {
   "display_name": "Python 3 (ipykernel)",
   "language": "python",
   "name": "python3"
  },
  "language_info": {
   "codemirror_mode": {
    "name": "ipython",
    "version": 3
   },
   "file_extension": ".py",
   "mimetype": "text/x-python",
   "name": "python",
   "nbconvert_exporter": "python",
   "pygments_lexer": "ipython3",
   "version": "3.8.5"
  }
 },
 "nbformat": 4,
 "nbformat_minor": 5
}
