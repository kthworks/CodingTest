{
 "cells": [
  {
   "cell_type": "markdown",
   "id": "b9013d3c",
   "metadata": {},
   "source": [
    "**연습문제**  \n",
    "**LEVEL : 1**   \n",
    "[문제링크](https://programmers.co.kr/learn/courses/30/lessons/12954)  "
   ]
  },
  {
   "cell_type": "code",
   "execution_count": 1,
   "id": "e07d54f9",
   "metadata": {},
   "outputs": [],
   "source": [
    "x = 2\n",
    "n = 5"
   ]
  },
  {
   "cell_type": "code",
   "execution_count": 2,
   "id": "7b9a42fe",
   "metadata": {},
   "outputs": [],
   "source": [
    "def solution(x, n):\n",
    "    return [i*x for i in range(1,n+1)]"
   ]
  },
  {
   "cell_type": "code",
   "execution_count": 3,
   "id": "843cebe2",
   "metadata": {},
   "outputs": [
    {
     "data": {
      "text/plain": [
       "[2, 4, 6, 8, 10]"
      ]
     },
     "execution_count": 3,
     "metadata": {},
     "output_type": "execute_result"
    }
   ],
   "source": [
    "solution(x, n)"
   ]
  }
 ],
 "metadata": {
  "kernelspec": {
   "display_name": "Python 3 (ipykernel)",
   "language": "python",
   "name": "python3"
  },
  "language_info": {
   "codemirror_mode": {
    "name": "ipython",
    "version": 3
   },
   "file_extension": ".py",
   "mimetype": "text/x-python",
   "name": "python",
   "nbconvert_exporter": "python",
   "pygments_lexer": "ipython3",
   "version": "3.8.5"
  }
 },
 "nbformat": 4,
 "nbformat_minor": 5
}
