{
 "cells": [
  {
   "cell_type": "markdown",
   "id": "60beac82",
   "metadata": {},
   "source": [
    "**연습문제**  \n",
    "**LEVEL : 1**   \n",
    "[문제링크](https://programmers.co.kr/learn/courses/30/lessons/12933)  "
   ]
  },
  {
   "cell_type": "code",
   "execution_count": 1,
   "id": "6a047ff0",
   "metadata": {},
   "outputs": [],
   "source": [
    "n = 118372"
   ]
  },
  {
   "cell_type": "code",
   "execution_count": 2,
   "id": "99ca2928",
   "metadata": {},
   "outputs": [],
   "source": [
    "def solution(n):\n",
    "    \n",
    "    return int(''.join(sorted(str(n)))[::-1])"
   ]
  },
  {
   "cell_type": "code",
   "execution_count": 3,
   "id": "5d9b28ae",
   "metadata": {},
   "outputs": [
    {
     "data": {
      "text/plain": [
       "873211"
      ]
     },
     "execution_count": 3,
     "metadata": {},
     "output_type": "execute_result"
    }
   ],
   "source": [
    "solution(n)"
   ]
  }
 ],
 "metadata": {
  "kernelspec": {
   "display_name": "Python 3 (ipykernel)",
   "language": "python",
   "name": "python3"
  },
  "language_info": {
   "codemirror_mode": {
    "name": "ipython",
    "version": 3
   },
   "file_extension": ".py",
   "mimetype": "text/x-python",
   "name": "python",
   "nbconvert_exporter": "python",
   "pygments_lexer": "ipython3",
   "version": "3.8.5"
  }
 },
 "nbformat": 4,
 "nbformat_minor": 5
}
