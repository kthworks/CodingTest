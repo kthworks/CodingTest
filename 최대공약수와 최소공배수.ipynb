{
 "cells": [
  {
   "cell_type": "markdown",
   "id": "c763d71b",
   "metadata": {},
   "source": [
    "**연습문제**  \n",
    "**LEVEL : 1**   \n",
    "[문제링크](https://programmers.co.kr/learn/courses/30/lessons/12937)  "
   ]
  },
  {
   "cell_type": "code",
   "execution_count": 39,
   "id": "39018c50",
   "metadata": {},
   "outputs": [],
   "source": [
    "n = 1\n",
    "m = 10"
   ]
  },
  {
   "cell_type": "code",
   "execution_count": 48,
   "id": "e42f1067",
   "metadata": {},
   "outputs": [],
   "source": [
    "def solution(n, m):\n",
    "    \n",
    "    max_num = 0\n",
    "    min_num = 0\n",
    "    \n",
    "    for i in range(1,n+1):\n",
    "        if n % i == 0 and m % i == 0:\n",
    "            max_num = i\n",
    "\n",
    "    list_for_min = [max(n,m)*j for j in range(1,min(n,m)+1)]\n",
    "    for i in range(1, max(n,m)+1):\n",
    "        if min(n,m)*i in list_for_min:\n",
    "            min_num = min(n,m)*i\n",
    "            break\n",
    "            \n",
    "    return [max_num, min_num]"
   ]
  },
  {
   "cell_type": "code",
   "execution_count": 49,
   "id": "25963656",
   "metadata": {},
   "outputs": [
    {
     "data": {
      "text/plain": [
       "[1, 10]"
      ]
     },
     "execution_count": 49,
     "metadata": {},
     "output_type": "execute_result"
    }
   ],
   "source": [
    "solution(n, m)"
   ]
  }
 ],
 "metadata": {
  "kernelspec": {
   "display_name": "Python 3 (ipykernel)",
   "language": "python",
   "name": "python3"
  },
  "language_info": {
   "codemirror_mode": {
    "name": "ipython",
    "version": 3
   },
   "file_extension": ".py",
   "mimetype": "text/x-python",
   "name": "python",
   "nbconvert_exporter": "python",
   "pygments_lexer": "ipython3",
   "version": "3.8.5"
  }
 },
 "nbformat": 4,
 "nbformat_minor": 5
}
