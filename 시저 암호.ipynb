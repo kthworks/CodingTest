{
 "cells": [
  {
   "cell_type": "markdown",
   "id": "80ca6833",
   "metadata": {},
   "source": [
    "**연습문제**  \n",
    "**LEVEL : 1**   \n",
    "[문제링크](https://programmers.co.kr/learn/courses/30/lessons/12926)  "
   ]
  },
  {
   "cell_type": "code",
   "execution_count": 10,
   "id": "71b713d3",
   "metadata": {},
   "outputs": [],
   "source": [
    "s = \"a B z\"\n",
    "n = 4"
   ]
  },
  {
   "cell_type": "code",
   "execution_count": 14,
   "id": "2a29b261",
   "metadata": {},
   "outputs": [],
   "source": [
    "def solution(s, n):\n",
    "    low = 'abcdefghijklmnopqrstuvwxyz'*2\n",
    "    up = low.upper()\n",
    "\n",
    "    answer =[]\n",
    "    for i in range(len(s)):\n",
    "        if s[i] == ' ':\n",
    "            answer.append(' ')\n",
    "        elif s[i] in low:\n",
    "            answer.append(low[low.index(s[i])+n])\n",
    "        elif s[i] in up:\n",
    "            answer.append(up[up.index(s[i])+n])\n",
    "\n",
    "  \n",
    "    return ''.join(answer)"
   ]
  },
  {
   "cell_type": "code",
   "execution_count": 15,
   "id": "e61769ce",
   "metadata": {},
   "outputs": [
    {
     "data": {
      "text/plain": [
       "'e F d'"
      ]
     },
     "execution_count": 15,
     "metadata": {},
     "output_type": "execute_result"
    }
   ],
   "source": [
    "solution(s,n)"
   ]
  }
 ],
 "metadata": {
  "kernelspec": {
   "display_name": "Python 3 (ipykernel)",
   "language": "python",
   "name": "python3"
  },
  "language_info": {
   "codemirror_mode": {
    "name": "ipython",
    "version": 3
   },
   "file_extension": ".py",
   "mimetype": "text/x-python",
   "name": "python",
   "nbconvert_exporter": "python",
   "pygments_lexer": "ipython3",
   "version": "3.8.5"
  }
 },
 "nbformat": 4,
 "nbformat_minor": 5
}
