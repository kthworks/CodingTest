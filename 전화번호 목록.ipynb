{
 "cells": [
  {
   "cell_type": "markdown",
   "id": "80f8bb44",
   "metadata": {},
   "source": [
    "**해시(Hash)**  \n",
    "**LEVEL : 2**   \n",
    "[문제링크](https://programmers.co.kr/learn/courses/30/lessons/42577)  \n",
    "\n",
    "- Tips:\n",
    "- 문자열에 대한 sort는 값과 길이를 동시에 기준으로 적용하여 정렬해줌.\n",
    "- 우선순위는 첫번째 인덱스 문자의 값이 됨.\n",
    "- 이렇게 했을 경우, 인접한 두 문자끼리만 비교하면 됨."
   ]
  },
  {
   "cell_type": "code",
   "execution_count": 48,
   "id": "1fa721d9",
   "metadata": {},
   "outputs": [],
   "source": [
    "phone_book = [\"12\",\"123\",\"1235\",\"567\",\"88\"]"
   ]
  },
  {
   "cell_type": "code",
   "execution_count": 49,
   "id": "e478914e",
   "metadata": {},
   "outputs": [],
   "source": [
    "def solution(p):\n",
    "\n",
    "    p.sort()\n",
    "    for i in range(len(p)-1): \n",
    "        if p[i] == (p[i+1])[:len(p[i])] : \n",
    "            return False\n",
    "        \n",
    "  \n",
    "\n",
    "    return True"
   ]
  },
  {
   "cell_type": "code",
   "execution_count": 50,
   "id": "e20148c6",
   "metadata": {},
   "outputs": [
    {
     "data": {
      "text/plain": [
       "False"
      ]
     },
     "execution_count": 50,
     "metadata": {},
     "output_type": "execute_result"
    }
   ],
   "source": [
    "solution(phone_book)"
   ]
  }
 ],
 "metadata": {
  "kernelspec": {
   "display_name": "Python 3 (ipykernel)",
   "language": "python",
   "name": "python3"
  },
  "language_info": {
   "codemirror_mode": {
    "name": "ipython",
    "version": 3
   },
   "file_extension": ".py",
   "mimetype": "text/x-python",
   "name": "python",
   "nbconvert_exporter": "python",
   "pygments_lexer": "ipython3",
   "version": "3.8.5"
  }
 },
 "nbformat": 4,
 "nbformat_minor": 5
}
