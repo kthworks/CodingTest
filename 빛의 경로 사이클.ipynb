{
 "cells": [
  {
   "cell_type": "markdown",
   "id": "f32fccb1",
   "metadata": {},
   "source": [
    "**월간 코드 챌린지 시즌3**  \n",
    "**LEVEL : 2**   \n",
    "[문제링크](https://programmers.co.kr/learn/courses/30/lessons/86052)  "
   ]
  },
  {
   "cell_type": "code",
   "execution_count": 2,
   "id": "894ab250",
   "metadata": {},
   "outputs": [],
   "source": [
    "grid = [\"SLR\"]"
   ]
  },
  {
   "cell_type": "code",
   "execution_count": 3,
   "id": "6da4d010",
   "metadata": {},
   "outputs": [],
   "source": [
    "def solution(grid):\n",
    "    import numpy as np\n",
    "    # Right, Down, Left, Up\n",
    "    pos = [[0,1], [1,0], [0,-1], [-1,0]]\n",
    "    \n",
    "    answer = []\n",
    "    cycle = []\n",
    "    \n",
    "    check = (np.ones((len(grid), len(grid[0]), 4)) == 0)\n",
    "    \n",
    "    for i in range(len(grid)):\n",
    "        for j in range(len(grid[0])):\n",
    "            for k in range(4):\n",
    "                r,c,d = i,j,k\n",
    "                cnt = 0\n",
    "                while check[r,c,d]==False:\n",
    "                    cnt+=1\n",
    "                    check[r,c,d] = True\n",
    "                    # direction update\n",
    "                    # d = 0, 1, 2, 3 = Right, Down, Left, Up\n",
    "                    if grid[r][c] == 'R':\n",
    "                        d = (d+1)%4\n",
    "\n",
    "                    elif grid[r][c] == 'L':\n",
    "                        d = (d-1)%4\n",
    "\n",
    "                    # position update\n",
    "                    r = (r + pos[d][0])%len(grid)\n",
    "                    c = (c + pos[d][1])%len(grid[0])\n",
    "                \n",
    "                if cnt > 0: \n",
    "                    answer.append(cnt)\n",
    "                    \n",
    "    return sorted(answer)"
   ]
  },
  {
   "cell_type": "code",
   "execution_count": 4,
   "id": "3a81cf94",
   "metadata": {},
   "outputs": [
    {
     "data": {
      "text/plain": [
       "[1, 1, 4, 6]"
      ]
     },
     "execution_count": 4,
     "metadata": {},
     "output_type": "execute_result"
    }
   ],
   "source": [
    "solution(grid)"
   ]
  }
 ],
 "metadata": {
  "kernelspec": {
   "display_name": "Python 3 (ipykernel)",
   "language": "python",
   "name": "python3"
  },
  "language_info": {
   "codemirror_mode": {
    "name": "ipython",
    "version": 3
   },
   "file_extension": ".py",
   "mimetype": "text/x-python",
   "name": "python",
   "nbconvert_exporter": "python",
   "pygments_lexer": "ipython3",
   "version": "3.8.5"
  }
 },
 "nbformat": 4,
 "nbformat_minor": 5
}
