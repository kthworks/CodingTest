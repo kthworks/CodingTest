{
 "cells": [
  {
   "cell_type": "code",
   "execution_count": 24,
   "id": "c440261a",
   "metadata": {},
   "outputs": [
    {
     "name": "stdout",
     "output_type": "stream",
     "text": [
      "15\n",
      "8\n"
     ]
    }
   ],
   "source": [
    "sizes = [[10, 7], [12, 3], [8, 15], [14, 7], [5, 15]]\n",
    "import numpy as np\n",
    "\n",
    "print(np.max(np.array(sizes)[:]))\n",
    "print(max(np.min(sizes,axis=1)))\n"
   ]
  },
  {
   "cell_type": "code",
   "execution_count": 22,
   "id": "1e1fc586",
   "metadata": {},
   "outputs": [
    {
     "data": {
      "text/plain": [
       "[14, 7]"
      ]
     },
     "execution_count": 22,
     "metadata": {},
     "output_type": "execute_result"
    }
   ],
   "source": [
    "max(sizes)"
   ]
  },
  {
   "cell_type": "code",
   "execution_count": 18,
   "id": "41562a58",
   "metadata": {},
   "outputs": [
    {
     "data": {
      "text/plain": [
       "50"
      ]
     },
     "execution_count": 18,
     "metadata": {},
     "output_type": "execute_result"
    }
   ],
   "source": [
    "max(np.min(np.array(sizes),axis=1))"
   ]
  }
 ],
 "metadata": {
  "kernelspec": {
   "display_name": "Python 3 (ipykernel)",
   "language": "python",
   "name": "python3"
  },
  "language_info": {
   "codemirror_mode": {
    "name": "ipython",
    "version": 3
   },
   "file_extension": ".py",
   "mimetype": "text/x-python",
   "name": "python",
   "nbconvert_exporter": "python",
   "pygments_lexer": "ipython3",
   "version": "3.9.7"
  }
 },
 "nbformat": 4,
 "nbformat_minor": 5
}
