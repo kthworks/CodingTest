{
 "cells": [
  {
   "cell_type": "markdown",
   "id": "11632ffe",
   "metadata": {},
   "source": [
    "**힙(Heap)**  \n",
    "**LEVEL : 2**   \n",
    "[문제링크](https://programmers.co.kr/learn/courses/30/lessons/42626)  \n"
   ]
  },
  {
   "cell_type": "code",
   "execution_count": 152,
   "id": "65fc0c76",
   "metadata": {},
   "outputs": [],
   "source": [
    "scoville = [1, 2, 3, 9, 10, 12]\n",
    "K = 7"
   ]
  },
  {
   "cell_type": "code",
   "execution_count": 153,
   "id": "4b19e83f",
   "metadata": {},
   "outputs": [],
   "source": [
    "def solution(scoville, K):\n",
    "    import heapq\n",
    "    \n",
    "    if sum(scoville) == 0:\n",
    "        return -1\n",
    "    \n",
    "    heapq.heapify(scoville)\n",
    "    cnt = 0\n",
    "    while scoville[0] < K and len(scoville) > 1:\n",
    "        \n",
    "        fmin = heapq.heappop(scoville)\n",
    "        smin = heapq.heappop(scoville)\n",
    "        heapq.heappush(scoville, fmin+smin*2)\n",
    "    \n",
    "        cnt+=1\n",
    "        \n",
    "    if scoville[0] < K: return -1 \n",
    "    return cnt"
   ]
  },
  {
   "cell_type": "code",
   "execution_count": 154,
   "id": "11ebe9ab",
   "metadata": {},
   "outputs": [
    {
     "data": {
      "text/plain": [
       "2"
      ]
     },
     "execution_count": 154,
     "metadata": {},
     "output_type": "execute_result"
    }
   ],
   "source": [
    "solution(scoville, K)"
   ]
  }
 ],
 "metadata": {
  "kernelspec": {
   "display_name": "Python 3 (ipykernel)",
   "language": "python",
   "name": "python3"
  },
  "language_info": {
   "codemirror_mode": {
    "name": "ipython",
    "version": 3
   },
   "file_extension": ".py",
   "mimetype": "text/x-python",
   "name": "python",
   "nbconvert_exporter": "python",
   "pygments_lexer": "ipython3",
   "version": "3.8.5"
  }
 },
 "nbformat": 4,
 "nbformat_minor": 5
}
