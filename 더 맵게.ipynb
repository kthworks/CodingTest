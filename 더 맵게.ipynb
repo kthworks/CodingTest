{
 "cells": [
  {
   "cell_type": "markdown",
   "id": "ffbbf4ff",
   "metadata": {},
   "source": [
    "**힙(Heap)**  \n",
    "**LEVEL : 2**   \n",
    "[문제링크](https://programmers.co.kr/learn/courses/30/lessons/42626)  \n"
   ]
  },
  {
   "cell_type": "code",
   "execution_count": 29,
   "id": "9058aa40",
   "metadata": {},
   "outputs": [],
   "source": [
    "scoville = [0,0,0,0,0,1]\n",
    "K = 1"
   ]
  },
  {
   "cell_type": "code",
   "execution_count": 30,
   "id": "3eadde1c",
   "metadata": {},
   "outputs": [],
   "source": [
    "def solution(scoville, K):\n",
    "    \n",
    "    if sum(scoville)==0 or K==0:\n",
    "        if K==0:\n",
    "            return 0\n",
    "        else:\n",
    "            return -1\n",
    "    \n",
    "    cnt = 0\n",
    "    while len(scoville)>1 and min(scoville)<K :\n",
    "        \n",
    "        scoville.sort()\n",
    "        fmin = scoville.pop(0)\n",
    "        scoville.sort()\n",
    "        smin = scoville.pop(0)\n",
    "        \n",
    "        scoville.append(fmin+smin*2)\n",
    "    \n",
    "        cnt+=1\n",
    "    return cnt"
   ]
  },
  {
   "cell_type": "code",
   "execution_count": 31,
   "id": "15e014b9",
   "metadata": {},
   "outputs": [
    {
     "data": {
      "text/plain": [
       "5"
      ]
     },
     "execution_count": 31,
     "metadata": {},
     "output_type": "execute_result"
    }
   ],
   "source": [
    "solution(scoville, K)"
   ]
  },
  {
   "cell_type": "code",
   "execution_count": 19,
   "id": "24bf03d2",
   "metadata": {},
   "outputs": [
    {
     "data": {
      "text/plain": [
       "[2, 3, 4]"
      ]
     },
     "execution_count": 19,
     "metadata": {},
     "output_type": "execute_result"
    }
   ],
   "source": [
    "a = [1,2,3,4]\n",
    "a.pop(0)\n",
    "a"
   ]
  }
 ],
 "metadata": {
  "kernelspec": {
   "display_name": "Python 3 (ipykernel)",
   "language": "python",
   "name": "python3"
  },
  "language_info": {
   "codemirror_mode": {
    "name": "ipython",
    "version": 3
   },
   "file_extension": ".py",
   "mimetype": "text/x-python",
   "name": "python",
   "nbconvert_exporter": "python",
   "pygments_lexer": "ipython3",
   "version": "3.8.5"
  }
 },
 "nbformat": 4,
 "nbformat_minor": 5
}
