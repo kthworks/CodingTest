{
 "cells": [
  {
   "cell_type": "markdown",
   "id": "fe2c9456",
   "metadata": {},
   "source": [
    "**2021 KAKAO BLIND RECRUITMENT**  \n",
    "**LEVEL : 2**   \n",
    "[문제링크](https://programmers.co.kr/learn/courses/30/lessons/72411)"
   ]
  },
  {
   "cell_type": "code",
   "execution_count": 38,
   "id": "872a752f",
   "metadata": {},
   "outputs": [],
   "source": [
    "orders = [\"ABCFG\", \"AC\", \"CDE\", \"ACDE\", \"BCFG\", \"ACDEH\"]\n",
    "course = [2,3,4]"
   ]
  },
  {
   "cell_type": "code",
   "execution_count": 39,
   "id": "3ff8c83e",
   "metadata": {},
   "outputs": [],
   "source": [
    "def solution(orders, course):\n",
    "    answer = []\n",
    "    \n",
    "    from itertools import combinations\n",
    "    for c in course:\n",
    "        dict = {}\n",
    "        \n",
    "        for order in orders:\n",
    "            if len(order)>=c:\n",
    "                comb = list(combinations(order,c))\n",
    "                comb = [''.join(sorted(t)) for t in comb]\n",
    "                for com in comb:\n",
    "                    if com not in dict.keys():\n",
    "                        dict[com] =1\n",
    "                    else:\n",
    "                        dict[com] +=1\n",
    "                        \n",
    "        answer.extend([i for i in dict.keys() if dict[i] == max(dict.values()) and dict[i]>1])\n",
    "\n",
    "    return sorted(answer)"
   ]
  },
  {
   "cell_type": "code",
   "execution_count": 40,
   "id": "422f198d",
   "metadata": {},
   "outputs": [
    {
     "data": {
      "text/plain": [
       "['AC', 'ACDE', 'BCFG', 'CDE']"
      ]
     },
     "execution_count": 40,
     "metadata": {},
     "output_type": "execute_result"
    }
   ],
   "source": [
    "solution(orders, course)"
   ]
  }
 ],
 "metadata": {
  "kernelspec": {
   "display_name": "Python 3 (ipykernel)",
   "language": "python",
   "name": "python3"
  },
  "language_info": {
   "codemirror_mode": {
    "name": "ipython",
    "version": 3
   },
   "file_extension": ".py",
   "mimetype": "text/x-python",
   "name": "python",
   "nbconvert_exporter": "python",
   "pygments_lexer": "ipython3",
   "version": "3.8.5"
  }
 },
 "nbformat": 4,
 "nbformat_minor": 5
}
