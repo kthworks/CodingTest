{
 "cells": [
  {
   "cell_type": "markdown",
   "id": "598cba32",
   "metadata": {},
   "source": [
    "**Summer/Winter Coding(2019)**  \n",
    "**LEVEL : 2**   \n",
    "[문제링크](https://programmers.co.kr/learn/courses/30/lessons/62048)  "
   ]
  },
  {
   "cell_type": "code",
   "execution_count": 98,
   "id": "53ba3194",
   "metadata": {},
   "outputs": [],
   "source": [
    "w = 2\n",
    "h = 3"
   ]
  },
  {
   "cell_type": "code",
   "execution_count": 99,
   "id": "6a9ed2f8",
   "metadata": {},
   "outputs": [],
   "source": [
    "def solution(w,h):\n",
    "    \n",
    "    minnum = min(w,h)\n",
    "    maxnum = max(w,h)\n",
    "    \n",
    "    for i in range(1, minnum+1):\n",
    "        if (maxnum/minnum*i).is_integer():\n",
    "            unit_min = i\n",
    "            unit_max = maxnum/minnum*i\n",
    "            break\n",
    "            \n",
    "    unit = unit_min + unit_max - 1\n",
    "    return w*h - (unit* (maxnum//unit_max))"
   ]
  },
  {
   "cell_type": "code",
   "execution_count": 100,
   "id": "20790e1f",
   "metadata": {},
   "outputs": [
    {
     "data": {
      "text/plain": [
       "2.0"
      ]
     },
     "execution_count": 100,
     "metadata": {},
     "output_type": "execute_result"
    }
   ],
   "source": [
    "solution(w,h)"
   ]
  }
 ],
 "metadata": {
  "kernelspec": {
   "display_name": "Python 3 (ipykernel)",
   "language": "python",
   "name": "python3"
  },
  "language_info": {
   "codemirror_mode": {
    "name": "ipython",
    "version": 3
   },
   "file_extension": ".py",
   "mimetype": "text/x-python",
   "name": "python",
   "nbconvert_exporter": "python",
   "pygments_lexer": "ipython3",
   "version": "3.8.5"
  }
 },
 "nbformat": 4,
 "nbformat_minor": 5
}
