{
 "cells": [
  {
   "cell_type": "markdown",
   "id": "598cba32",
   "metadata": {},
   "source": [
    "**Summer/Winter Coding(2019)**  \n",
    "**LEVEL : 2**   \n",
    "[문제링크](https://programmers.co.kr/learn/courses/30/lessons/62048)  "
   ]
  },
  {
   "cell_type": "code",
   "execution_count": 105,
   "id": "53ba3194",
   "metadata": {},
   "outputs": [],
   "source": [
    "w = 8\n",
    "h = 12"
   ]
  },
  {
   "cell_type": "code",
   "execution_count": 106,
   "id": "91478f4c",
   "metadata": {},
   "outputs": [],
   "source": [
    "def solution(w,h):\n",
    "    \n",
    "    m = max(w,h)\n",
    "    n = min(w,h)\n",
    "\n",
    "    while True:\n",
    "        tmp = m % n\n",
    "        if tmp == 0:\n",
    "            gcd = n\n",
    "            break\n",
    "        m, n = max(n,tmp), min(n,tmp)\n",
    "        \n",
    "    return w*h - (w+h-gcd)"
   ]
  },
  {
   "cell_type": "code",
   "execution_count": 107,
   "id": "279a6c47",
   "metadata": {},
   "outputs": [
    {
     "data": {
      "text/plain": [
       "80"
      ]
     },
     "execution_count": 107,
     "metadata": {},
     "output_type": "execute_result"
    }
   ],
   "source": [
    "solution(w,h)"
   ]
  }
 ],
 "metadata": {
  "kernelspec": {
   "display_name": "Python 3 (ipykernel)",
   "language": "python",
   "name": "python3"
  },
  "language_info": {
   "codemirror_mode": {
    "name": "ipython",
    "version": 3
   },
   "file_extension": ".py",
   "mimetype": "text/x-python",
   "name": "python",
   "nbconvert_exporter": "python",
   "pygments_lexer": "ipython3",
   "version": "3.8.5"
  }
 },
 "nbformat": 4,
 "nbformat_minor": 5
}
