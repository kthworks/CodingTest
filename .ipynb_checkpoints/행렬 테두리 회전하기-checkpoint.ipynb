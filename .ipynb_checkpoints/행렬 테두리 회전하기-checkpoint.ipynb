{
 "cells": [
  {
   "cell_type": "markdown",
   "id": "a168fe16",
   "metadata": {},
   "source": [
    "**2021 Dev-Matching:웹 백엔드 개발**  \n",
    "**LEVEL : 2**   \n",
    "[문제링크](https://programmers.co.kr/learn/courses/30/lessons/77485)  "
   ]
  },
  {
   "cell_type": "code",
   "execution_count": 113,
   "id": "3b88d2cd",
   "metadata": {},
   "outputs": [],
   "source": [
    "rows = 3\n",
    "columns = 3\n",
    "queries = [[1, 1, 2, 2], [1, 2, 2, 3], [2, 1, 3, 2], [2, 2, 3, 3]]"
   ]
  },
  {
   "cell_type": "code",
   "execution_count": 114,
   "id": "aa59f0be",
   "metadata": {},
   "outputs": [],
   "source": [
    "def solution(rows, columns, queries):\n",
    "    \n",
    "    import numpy as np\n",
    "    mat = np.zeros([rows,columns])\n",
    "    n = 1\n",
    "    for i in range(rows):\n",
    "        for j in range(columns):\n",
    "            mat[i][j] = n\n",
    "            n+=1\n",
    "    \n",
    "    answer = []\n",
    "    for a,b,c,d in queries:\n",
    "        T,L,B,R = a-1, b-1, c-1, d-1\n",
    "        \n",
    "        tmpmat = np.copy(mat)\n",
    "        tmp = []\n",
    "        #Left\n",
    "        for j in range(T,B):\n",
    "            tmp.append(mat[j][L])\n",
    "            mat[j][L] = tmpmat[j+1][L]\n",
    "            \n",
    "        #Right \n",
    "        for j in range(T+1, B+1):\n",
    "            tmp.append(mat[j][R])\n",
    "            mat[j][R] = tmpmat[j-1][R]\n",
    "            \n",
    "        #Bottom\n",
    "        for j in range(L, R):\n",
    "            tmp.append(mat[B][j])\n",
    "            mat[B][j] = tmpmat[B][j+1]\n",
    "            \n",
    "        #Top\n",
    "        for j in range(L+1,R+1):\n",
    "            tmp.append(mat[T][j])\n",
    "            mat[T][j] = tmpmat[T][j-1]\n",
    "                        \n",
    "        answer.append(min(tmp))\n",
    "        \n",
    "    return answer"
   ]
  },
  {
   "cell_type": "code",
   "execution_count": 115,
   "id": "8b2bdf29",
   "metadata": {},
   "outputs": [
    {
     "data": {
      "text/plain": [
       "[1.0, 1.0, 5.0, 3.0]"
      ]
     },
     "execution_count": 115,
     "metadata": {},
     "output_type": "execute_result"
    }
   ],
   "source": [
    "solution(rows, columns, queries)"
   ]
  }
 ],
 "metadata": {
  "kernelspec": {
   "display_name": "Python 3 (ipykernel)",
   "language": "python",
   "name": "python3"
  },
  "language_info": {
   "codemirror_mode": {
    "name": "ipython",
    "version": 3
   },
   "file_extension": ".py",
   "mimetype": "text/x-python",
   "name": "python",
   "nbconvert_exporter": "python",
   "pygments_lexer": "ipython3",
   "version": "3.8.5"
  }
 },
 "nbformat": 4,
 "nbformat_minor": 5
}
