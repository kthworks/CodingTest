{
 "cells": [
  {
   "cell_type": "markdown",
   "id": "598cba32",
   "metadata": {},
   "source": [
    "**Summer/Winter Coding(2019)**  \n",
    "**LEVEL : 2**   \n",
    "[문제링크](https://programmers.co.kr/learn/courses/30/lessons/62048)  "
   ]
  },
  {
   "cell_type": "code",
   "execution_count": null,
   "id": "53ba3194",
   "metadata": {},
   "outputs": [],
   "source": []
  }
 ],
 "metadata": {
  "kernelspec": {
   "display_name": "Python 3 (ipykernel)",
   "language": "python",
   "name": "python3"
  },
  "language_info": {
   "codemirror_mode": {
    "name": "ipython",
    "version": 3
   },
   "file_extension": ".py",
   "mimetype": "text/x-python",
   "name": "python",
   "nbconvert_exporter": "python",
   "pygments_lexer": "ipython3",
   "version": "3.8.5"
  }
 },
 "nbformat": 4,
 "nbformat_minor": 5
}
