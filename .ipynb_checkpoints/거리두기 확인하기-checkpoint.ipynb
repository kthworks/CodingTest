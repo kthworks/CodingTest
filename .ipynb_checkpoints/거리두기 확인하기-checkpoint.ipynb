{
 "cells": [
  {
   "cell_type": "markdown",
   "id": "3f6a57ef",
   "metadata": {},
   "source": [
    "**2021 KAKAO 채용연계형 인턴십**  \n",
    "**LEVEL : 2**   \n",
    "[문제링크](https://programmers.co.kr/learn/courses/30/lessons/81302)"
   ]
  },
  {
   "cell_type": "code",
   "execution_count": 1,
   "id": "c5871e4d",
   "metadata": {},
   "outputs": [],
   "source": [
    "places =[[\"POOOP\", \"OXXOX\", \"OPXPX\", \"OOXOX\", \"POXXP\"], [\"POOPX\", \"OXPXP\", \"PXXXO\", \"OXXXO\", \"OOOPP\"], [\"PXOPX\", \"OXOXP\", \"OXPOX\", \"OXXOP\", \"PXPOX\"], [\"OOOXX\", \"XOOOX\", \"OOOXX\", \"OXOOX\", \"OOOOO\"], [\"PXPXP\", \"XPXPX\", \"PXPXP\", \"XPXPX\", \"PXPXP\"]]"
   ]
  },
  {
   "cell_type": "code",
   "execution_count": 2,
   "id": "b7c5af8f",
   "metadata": {},
   "outputs": [],
   "source": [
    "def solution(places):\n",
    "    import numpy as np\n",
    "    answer = []\n",
    "    for place in places:\n",
    "        \n",
    "        #응시생 자리 좌표 구하기\n",
    "        seat = [[i,j] for i in range(5) for j in range(5) if place[i][j] == 'P']\n",
    "        \n",
    "        ans_tmp = 1\n",
    "        for i in range(len(seat)-1):\n",
    "            for j in range(i,len(seat)):\n",
    "                \n",
    "                x1, y1 = seat[i][0], seat[i][1]\n",
    "                x2, y2 = seat[j][0], seat[j][1]\n",
    "                \n",
    "                if abs(x1-x2) + abs(y1-y2) == 1: # 거리 1 이면 무조건 위반\n",
    "                    ans_tmp = 0\n",
    "                    break\n",
    "\n",
    "                elif abs(x1-x2) + abs(y1-y2) == 2: # 거리 2 일때 \n",
    "\n",
    "                    if x1 == x2 or y1 == y2: #직선경로\n",
    "                        if place[int((x1+x2)/2)][int((y1+y2)/2)] == 'O':\n",
    "                            ans_tmp = 0\n",
    "                            break\n",
    "                                        \n",
    "                    elif x1<x2 and y1<y2: #대각선경로 \\\n",
    "                        if place[x1][y2] == 'O' or place[x2][y1] == 'O':\n",
    "                            ans_tmp = 0\n",
    "                            break   \n",
    "                            \n",
    "                    else : #대각선경로 /\n",
    "                        if place[min(x1,x2)][min(y1,y2)] == 'O' or place[max(x1,x2)][max(y1,y2)] == 'O':\n",
    "                            ans_tmp = 0\n",
    "                            break\n",
    "\n",
    "        answer.append(ans_tmp)\n",
    "    \n",
    "    return answer"
   ]
  },
  {
   "cell_type": "code",
   "execution_count": 3,
   "id": "ae5f5ce2",
   "metadata": {},
   "outputs": [
    {
     "data": {
      "text/plain": [
       "[1, 0, 1, 1, 1]"
      ]
     },
     "execution_count": 3,
     "metadata": {},
     "output_type": "execute_result"
    }
   ],
   "source": [
    "solution(places)"
   ]
  }
 ],
 "metadata": {
  "kernelspec": {
   "display_name": "Python 3 (ipykernel)",
   "language": "python",
   "name": "python3"
  },
  "language_info": {
   "codemirror_mode": {
    "name": "ipython",
    "version": 3
   },
   "file_extension": ".py",
   "mimetype": "text/x-python",
   "name": "python",
   "nbconvert_exporter": "python",
   "pygments_lexer": "ipython3",
   "version": "3.8.5"
  }
 },
 "nbformat": 4,
 "nbformat_minor": 5
}
