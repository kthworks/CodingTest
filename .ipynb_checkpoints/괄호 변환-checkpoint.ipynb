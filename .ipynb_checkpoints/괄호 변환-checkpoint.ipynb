{
 "cells": [
  {
   "cell_type": "markdown",
   "id": "edbf4016",
   "metadata": {},
   "source": [
    "**2020 KAKAO BLIND RECRUITMENT**  \n",
    "**LEVEL : 2**   \n",
    "[문제링크](https://programmers.co.kr/learn/courses/30/lessons/60058)"
   ]
  },
  {
   "cell_type": "code",
   "execution_count": 10,
   "id": "8496926e",
   "metadata": {},
   "outputs": [],
   "source": [
    "p = \"()))((()\""
   ]
  },
  {
   "cell_type": "code",
   "execution_count": 45,
   "id": "50278325",
   "metadata": {},
   "outputs": [],
   "source": [
    "def solution(p):\n",
    "    \n",
    "    answer = ''\n",
    "    if not p:\n",
    "        return ''\n",
    "    \n",
    "    dict = {'(':')', ')':'('}    \n",
    "\n",
    "    u,v = '',''\n",
    "    for i in range(len(p)):\n",
    "        if i>1 and u.count('(') == u.count(')'):\n",
    "            v=p[i:]\n",
    "            break\n",
    "        else: \n",
    "            u+=i\n",
    "            \n",
    "    if u[int(len(u)/2):] == ')'*int(len(u)/2):\n",
    "        return u+solution(v)\n",
    "        \n",
    "    else:\n",
    "        tmp = ''.join([dict[i] for i in u[1:-1]])\n",
    "        return '(' + solution(v) + ')' + tmp"
   ]
  },
  {
   "cell_type": "code",
   "execution_count": 20,
   "id": "83ed8af2",
   "metadata": {},
   "outputs": [],
   "source": [
    "u,v = '',''\n",
    "for i in range(len(p)):\n",
    "    if i>1 and u.count('(') == u.count(')'):\n",
    "        v=p[i:]\n",
    "        break\n",
    "    else: \n",
    "        u+=p[i]\n"
   ]
  },
  {
   "cell_type": "code",
   "execution_count": 21,
   "id": "d5fe4b20",
   "metadata": {},
   "outputs": [
    {
     "data": {
      "text/plain": [
       "'()'"
      ]
     },
     "execution_count": 21,
     "metadata": {},
     "output_type": "execute_result"
    }
   ],
   "source": [
    "u"
   ]
  },
  {
   "cell_type": "code",
   "execution_count": 19,
   "id": "ae6024c5",
   "metadata": {},
   "outputs": [
    {
     "data": {
      "text/plain": [
       "'('"
      ]
     },
     "execution_count": 19,
     "metadata": {},
     "output_type": "execute_result"
    }
   ],
   "source": []
  }
 ],
 "metadata": {
  "kernelspec": {
   "display_name": "Python 3 (ipykernel)",
   "language": "python",
   "name": "python3"
  },
  "language_info": {
   "codemirror_mode": {
    "name": "ipython",
    "version": 3
   },
   "file_extension": ".py",
   "mimetype": "text/x-python",
   "name": "python",
   "nbconvert_exporter": "python",
   "pygments_lexer": "ipython3",
   "version": "3.8.5"
  }
 },
 "nbformat": 4,
 "nbformat_minor": 5
}
