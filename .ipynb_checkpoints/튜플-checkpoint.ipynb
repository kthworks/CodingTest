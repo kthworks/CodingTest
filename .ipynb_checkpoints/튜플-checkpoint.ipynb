{
 "cells": [
  {
   "cell_type": "markdown",
   "id": "a2ff5b0e",
   "metadata": {},
   "source": [
    "**2019 KAKAO 개발자 겨울 인턴십**  \n",
    "**LEVEL : 2**   \n",
    "[문제링크](https://programmers.co.kr/learn/courses/30/lessons/64065)  "
   ]
  },
  {
   "cell_type": "code",
   "execution_count": 58,
   "id": "f03cbc50",
   "metadata": {},
   "outputs": [],
   "source": [
    "s = \"{{4,2,3},{3},{2,3,4,1},{2,3}}\""
   ]
  },
  {
   "cell_type": "code",
   "execution_count": 59,
   "id": "26e70c36",
   "metadata": {},
   "outputs": [],
   "source": [
    "def solution(s):\n",
    "    s = s[1:-1] + ','\n",
    "    s1 = s.split('{')\n",
    "    s2 = [''.join(i.split('},')) for i in s1 if len(i)>0]\n",
    "    \n",
    "    s3 = []\n",
    "    for i in s2:\n",
    "        tmp = i.split(',')\n",
    "        s3.append([int(t) for t in tmp])\n",
    "        \n",
    "    lens = [len(i) for i in s3]\n",
    "    sorted_lens = sorted(lens)\n",
    "    idx = [lens.index(sorted_lens[i]) for i in range(len(s3))]\n",
    "    \n",
    "    answer = s3[idx[0]]\n",
    "    for i in range(1,len(s3)):\n",
    "        tmp = set(s3[idx[i]]) - set(s3[idx[i-1]])\n",
    "        answer.append(int(list(tmp)[0]))\n",
    "            \n",
    "    return answer"
   ]
  },
  {
   "cell_type": "code",
   "execution_count": 60,
   "id": "9e618b5a",
   "metadata": {},
   "outputs": [
    {
     "data": {
      "text/plain": [
       "[3, 2, 4, 1]"
      ]
     },
     "execution_count": 60,
     "metadata": {},
     "output_type": "execute_result"
    }
   ],
   "source": [
    "solution(s)"
   ]
  }
 ],
 "metadata": {
  "kernelspec": {
   "display_name": "Python 3 (ipykernel)",
   "language": "python",
   "name": "python3"
  },
  "language_info": {
   "codemirror_mode": {
    "name": "ipython",
    "version": 3
   },
   "file_extension": ".py",
   "mimetype": "text/x-python",
   "name": "python",
   "nbconvert_exporter": "python",
   "pygments_lexer": "ipython3",
   "version": "3.8.5"
  }
 },
 "nbformat": 4,
 "nbformat_minor": 5
}
