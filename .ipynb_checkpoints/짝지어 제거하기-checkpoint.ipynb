{
 "cells": [
  {
   "cell_type": "markdown",
   "id": "d7374ea0",
   "metadata": {},
   "source": [
    "**2017 팁스타운**  \n",
    "**LEVEL : 2**   \n",
    "[문제링크](https://programmers.co.kr/learn/courses/30/lessons/12973)  \n",
    "\n",
    "* Key point : \n",
    "- 문자열의 길이 범위가 아주 크므로 최대 O(n)정도로 풀 생각하기\n",
    "- Stack을 사용한 접근"
   ]
  },
  {
   "cell_type": "code",
   "execution_count": 137,
   "id": "f5778f00",
   "metadata": {},
   "outputs": [],
   "source": [
    "s = 'bccddb'"
   ]
  },
  {
   "cell_type": "code",
   "execution_count": 166,
   "id": "84b51425",
   "metadata": {},
   "outputs": [],
   "source": [
    "def solution(s):\n",
    "    \n",
    "    stack = []\n",
    "    for i in range(len(s)):\n",
    "        stack.append(s[i])\n",
    "        if len(stack) >1:\n",
    "            if stack[-1] == stack[-2]:\n",
    "                stack.pop(-1)\n",
    "                stack.pop(-1)\n",
    "    \n",
    "    if not stack : return 1\n",
    "    return 0"
   ]
  },
  {
   "cell_type": "code",
   "execution_count": 167,
   "id": "961afe5a",
   "metadata": {},
   "outputs": [
    {
     "data": {
      "text/plain": [
       "1"
      ]
     },
     "execution_count": 167,
     "metadata": {},
     "output_type": "execute_result"
    }
   ],
   "source": [
    "solution(s)"
   ]
  }
 ],
 "metadata": {
  "kernelspec": {
   "display_name": "Python 3 (ipykernel)",
   "language": "python",
   "name": "python3"
  },
  "language_info": {
   "codemirror_mode": {
    "name": "ipython",
    "version": 3
   },
   "file_extension": ".py",
   "mimetype": "text/x-python",
   "name": "python",
   "nbconvert_exporter": "python",
   "pygments_lexer": "ipython3",
   "version": "3.8.5"
  }
 },
 "nbformat": 4,
 "nbformat_minor": 5
}
