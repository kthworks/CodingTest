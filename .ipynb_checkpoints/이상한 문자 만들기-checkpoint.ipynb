{
 "cells": [
  {
   "cell_type": "markdown",
   "id": "4238ece0",
   "metadata": {},
   "source": [
    "**연습문제**  \n",
    "**LEVEL : 1**   \n",
    "[문제링크](https://programmers.co.kr/learn/courses/30/lessons/12930)  "
   ]
  },
  {
   "cell_type": "code",
   "execution_count": 91,
   "id": "f03c11ae",
   "metadata": {},
   "outputs": [],
   "source": [
    "s = \"why it has a failure \""
   ]
  },
  {
   "cell_type": "code",
   "execution_count": 92,
   "id": "d94bcf71",
   "metadata": {},
   "outputs": [
    {
     "name": "stdout",
     "output_type": "stream",
     "text": [
      "None\n",
      "None\n",
      "None\n",
      "None\n",
      "None\n",
      "None\n",
      "WhY It HaS A FaIlUrE \n"
     ]
    }
   ],
   "source": [
    "s = s.split(' ')\n",
    "\n",
    "answer = []\n",
    "for t in s:\n",
    "    tmp = ''\n",
    "    for i in range(len(t)):\n",
    "        if i%2==0: tmp+=t[i].upper()\n",
    "        else: tmp+=t[i].lower()\n",
    "    print(answer.extend(tmp+' '))\n",
    "    \n",
    "if s[:-1] == ' ':\n",
    "    print(''.join(answer))\n",
    "else:\n",
    "    print(''.join(answer)[:-1])"
   ]
  },
  {
   "cell_type": "code",
   "execution_count": 88,
   "id": "b5781c8e",
   "metadata": {},
   "outputs": [
    {
     "data": {
      "text/plain": [
       "['why', 'it', 'has', 'a', 'failure', '']"
      ]
     },
     "execution_count": 88,
     "metadata": {},
     "output_type": "execute_result"
    }
   ],
   "source": [
    "s.split(' ')"
   ]
  },
  {
   "cell_type": "code",
   "execution_count": null,
   "id": "94697684",
   "metadata": {},
   "outputs": [],
   "source": []
  }
 ],
 "metadata": {
  "kernelspec": {
   "display_name": "Python 3 (ipykernel)",
   "language": "python",
   "name": "python3"
  },
  "language_info": {
   "codemirror_mode": {
    "name": "ipython",
    "version": 3
   },
   "file_extension": ".py",
   "mimetype": "text/x-python",
   "name": "python",
   "nbconvert_exporter": "python",
   "pygments_lexer": "ipython3",
   "version": "3.8.5"
  }
 },
 "nbformat": 4,
 "nbformat_minor": 5
}
