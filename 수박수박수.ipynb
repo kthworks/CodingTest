{
 "cells": [
  {
   "cell_type": "markdown",
   "id": "c9679ce9",
   "metadata": {},
   "source": [
    "**연습문제**  \n",
    "**LEVEL : 1**   \n",
    "[문제링크](https://programmers.co.kr/learn/courses/30/lessons/12922)  "
   ]
  },
  {
   "cell_type": "code",
   "execution_count": 37,
   "id": "2ceb754a",
   "metadata": {},
   "outputs": [],
   "source": [
    "n = 4"
   ]
  },
  {
   "cell_type": "code",
   "execution_count": 38,
   "id": "7285b77f",
   "metadata": {},
   "outputs": [],
   "source": [
    "def solution(n):\n",
    "    \n",
    "    if n%2 == 1:\n",
    "        return ('수박'*int((n+1)/2))[:-1]\n",
    "    else:\n",
    "        return '수박'*int(n/2)"
   ]
  },
  {
   "cell_type": "code",
   "execution_count": 39,
   "id": "a0301da7",
   "metadata": {},
   "outputs": [
    {
     "data": {
      "text/plain": [
       "'수박수박'"
      ]
     },
     "execution_count": 39,
     "metadata": {},
     "output_type": "execute_result"
    }
   ],
   "source": [
    "solution(n)"
   ]
  }
 ],
 "metadata": {
  "kernelspec": {
   "display_name": "Python 3 (ipykernel)",
   "language": "python",
   "name": "python3"
  },
  "language_info": {
   "codemirror_mode": {
    "name": "ipython",
    "version": 3
   },
   "file_extension": ".py",
   "mimetype": "text/x-python",
   "name": "python",
   "nbconvert_exporter": "python",
   "pygments_lexer": "ipython3",
   "version": "3.8.5"
  }
 },
 "nbformat": 4,
 "nbformat_minor": 5
}
