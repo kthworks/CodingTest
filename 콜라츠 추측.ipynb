{
 "cells": [
  {
   "cell_type": "markdown",
   "id": "0337612d",
   "metadata": {},
   "source": [
    "**연습문제**  \n",
    "**LEVEL : 1**   \n",
    "[문제링크](https://programmers.co.kr/learn/courses/30/lessons/12943)  "
   ]
  },
  {
   "cell_type": "code",
   "execution_count": 10,
   "id": "f8c6e98a",
   "metadata": {},
   "outputs": [],
   "source": [
    "num = 6"
   ]
  },
  {
   "cell_type": "code",
   "execution_count": 11,
   "id": "818ce07b",
   "metadata": {},
   "outputs": [],
   "source": [
    "def solution(num):\n",
    "    cnt = 0\n",
    "    \n",
    "    while num != 1:\n",
    "        cnt+=1\n",
    "        \n",
    "        if num%2==0:\n",
    "            num = num/2\n",
    "        else:\n",
    "            num = num*3+1\n",
    "    \n",
    "    if cnt>500: cnt = -1\n",
    "    return cnt"
   ]
  },
  {
   "cell_type": "code",
   "execution_count": 12,
   "id": "0dc55110",
   "metadata": {},
   "outputs": [
    {
     "data": {
      "text/plain": [
       "8"
      ]
     },
     "execution_count": 12,
     "metadata": {},
     "output_type": "execute_result"
    }
   ],
   "source": [
    "solution(num)"
   ]
  }
 ],
 "metadata": {
  "kernelspec": {
   "display_name": "Python 3 (ipykernel)",
   "language": "python",
   "name": "python3"
  },
  "language_info": {
   "codemirror_mode": {
    "name": "ipython",
    "version": 3
   },
   "file_extension": ".py",
   "mimetype": "text/x-python",
   "name": "python",
   "nbconvert_exporter": "python",
   "pygments_lexer": "ipython3",
   "version": "3.8.5"
  }
 },
 "nbformat": 4,
 "nbformat_minor": 5
}
