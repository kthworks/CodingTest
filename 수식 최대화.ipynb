{
 "cells": [
  {
   "cell_type": "markdown",
   "id": "f580410a",
   "metadata": {},
   "source": [
    "**2020 카카오 인턴십**  \n",
    "**LEVEL : 2**   \n",
    "[문제링크](https://programmers.co.kr/learn/courses/30/lessons/67257)  \n",
    "\n",
    "Tip: \n",
    "- 정규표현식을 이용하여 풀이를 해보려 했지만, sub에서 replace하는 과정에서 여러 오류가 생겨서 포기 (음수값 대입 등)\n",
    "- list split을 잘 활용하여 차순위 연산자부터 계산 후 병합하는 방식으로 충분히 풀이 가능\n",
    "- Complex is better than complicated.."
   ]
  },
  {
   "cell_type": "code",
   "execution_count": 1,
   "id": "d1a0b0ca",
   "metadata": {},
   "outputs": [],
   "source": [
    "expression = \"100-200*300-500+20\""
   ]
  },
  {
   "cell_type": "code",
   "execution_count": 2,
   "id": "9b21c2a2",
   "metadata": {},
   "outputs": [],
   "source": [
    "def solution(expression):\n",
    "    \n",
    "    from itertools import permutations\n",
    "    priority = [i for i in permutations([\"+\",\"-\",\"*\"])]\n",
    "    \n",
    "    answer = []\n",
    "    for i in priority:\n",
    "        first = expression.split(i[0])\n",
    "        second = [t.split(i[1]) for t in first]\n",
    "        \n",
    "        eval_third = []\n",
    "        for s in second:\n",
    "            tmp = [str(eval(t)) for t in s]\n",
    "            eval_third.append(i[1].join(tmp))\n",
    "        eval_second = [str(eval(t)) for t in eval_third]       \n",
    "        answer.append(abs(eval(i[0].join(eval_second))))\n",
    "\n",
    "    return max(answer)"
   ]
  },
  {
   "cell_type": "code",
   "execution_count": 3,
   "id": "12db4128",
   "metadata": {},
   "outputs": [
    {
     "data": {
      "text/plain": [
       "60420"
      ]
     },
     "execution_count": 3,
     "metadata": {},
     "output_type": "execute_result"
    }
   ],
   "source": [
    "solution(expression)"
   ]
  }
 ],
 "metadata": {
  "kernelspec": {
   "display_name": "Python 3 (ipykernel)",
   "language": "python",
   "name": "python3"
  },
  "language_info": {
   "codemirror_mode": {
    "name": "ipython",
    "version": 3
   },
   "file_extension": ".py",
   "mimetype": "text/x-python",
   "name": "python",
   "nbconvert_exporter": "python",
   "pygments_lexer": "ipython3",
   "version": "3.8.5"
  }
 },
 "nbformat": 4,
 "nbformat_minor": 5
}
