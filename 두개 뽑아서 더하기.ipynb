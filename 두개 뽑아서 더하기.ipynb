{
 "cells": [
  {
   "cell_type": "markdown",
   "id": "e1c70b03",
   "metadata": {},
   "source": [
    "**월간 코드 챌린지 시즌1**  \n",
    "**LEVEL : 1**\n",
    "\n",
    "[문제 링크](https://programmers.co.kr/learn/courses/30/lessons/68644)"
   ]
  },
  {
   "cell_type": "code",
   "execution_count": 1,
   "id": "af87dfab",
   "metadata": {},
   "outputs": [],
   "source": [
    "numbers = [2,1,3,4,1]"
   ]
  },
  {
   "cell_type": "code",
   "execution_count": 2,
   "id": "cb9c8cc6",
   "metadata": {},
   "outputs": [],
   "source": [
    "def solution(numbers):\n",
    "    \n",
    "    all_sum = []\n",
    "    for i in range(len(numbers)-1):\n",
    "        for j in range(i+1, len(numbers)):\n",
    "            all_sum.append(numbers[i]+numbers[j])\n",
    "    \n",
    "    answer = list(set(all_sum))\n",
    "    answer.sort()\n",
    "    return answer"
   ]
  },
  {
   "cell_type": "code",
   "execution_count": 3,
   "id": "733575a7",
   "metadata": {},
   "outputs": [
    {
     "data": {
      "text/plain": [
       "[2, 3, 4, 5, 6, 7]"
      ]
     },
     "execution_count": 3,
     "metadata": {},
     "output_type": "execute_result"
    }
   ],
   "source": [
    "solution(numbers)"
   ]
  }
 ],
 "metadata": {
  "kernelspec": {
   "display_name": "Python 3 (ipykernel)",
   "language": "python",
   "name": "python3"
  },
  "language_info": {
   "codemirror_mode": {
    "name": "ipython",
    "version": 3
   },
   "file_extension": ".py",
   "mimetype": "text/x-python",
   "name": "python",
   "nbconvert_exporter": "python",
   "pygments_lexer": "ipython3",
   "version": "3.8.5"
  }
 },
 "nbformat": 4,
 "nbformat_minor": 5
}
