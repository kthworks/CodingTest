{
 "cells": [
  {
   "cell_type": "markdown",
   "id": "84fb70f7",
   "metadata": {},
   "source": [
    "**2018 KAKAO BLIND RECRUITMENT**  \n",
    "**LEVEL : 2**   \n",
    "[문제링크](https://programmers.co.kr/learn/courses/30/lessons/17677)"
   ]
  },
  {
   "cell_type": "code",
   "execution_count": 32,
   "id": "2aba04a4",
   "metadata": {},
   "outputs": [],
   "source": [
    "str1 = 'handshake'\n",
    "str2 = 'shake hands'"
   ]
  },
  {
   "cell_type": "code",
   "execution_count": 33,
   "id": "ef63dbfd",
   "metadata": {},
   "outputs": [],
   "source": [
    "def solution(str1, str2):\n",
    "\n",
    "    import re\n",
    "    p = re.compile('[^a-zA-Z]')\n",
    "\n",
    "    #2글자씩 소문자로 묶고 영문자가 아닌것 제거\n",
    "    token1 = [str1[i:i+2].lower() for i in range(len(str1)-1) if not p.search(str1[i:i+2])]\n",
    "    token2 = [str2[i:i+2].lower() for i in range(len(str2)-1) if not p.search(str2[i:i+2])]\n",
    "\n",
    "    #중복 원소에 대한 교집합\n",
    "    intersect = 0\n",
    "    for i in set(token1):\n",
    "        if i in token2:\n",
    "            intersect += min(token1.count(i), token2.count(i))\n",
    "\n",
    "    #중복 원소에 대한 합집합\n",
    "    union = len(token1) + len(token2) - intersect\n",
    "\n",
    "    if union == 0:\n",
    "        return 65536\n",
    "    if intersect == 0:\n",
    "        return 0\n",
    "    else:\n",
    "        #자카드 유사도 계산 후 정답 출력 형식으로 변환\n",
    "        jakad = int(intersect/union*65536)\n",
    "        return jakad"
   ]
  },
  {
   "cell_type": "code",
   "execution_count": 34,
   "id": "501f20ae",
   "metadata": {},
   "outputs": [
    {
     "data": {
      "text/plain": [
       "65536"
      ]
     },
     "execution_count": 34,
     "metadata": {},
     "output_type": "execute_result"
    }
   ],
   "source": [
    "solution(str1, str2)"
   ]
  }
 ],
 "metadata": {
  "kernelspec": {
   "display_name": "Python 3 (ipykernel)",
   "language": "python",
   "name": "python3"
  },
  "language_info": {
   "codemirror_mode": {
    "name": "ipython",
    "version": 3
   },
   "file_extension": ".py",
   "mimetype": "text/x-python",
   "name": "python",
   "nbconvert_exporter": "python",
   "pygments_lexer": "ipython3",
   "version": "3.8.5"
  }
 },
 "nbformat": 4,
 "nbformat_minor": 5
}
