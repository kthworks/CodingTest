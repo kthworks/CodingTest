{
 "cells": [
  {
   "cell_type": "markdown",
   "id": "a2fa9479",
   "metadata": {},
   "source": [
    "**연습문제**  \n",
    "**LEVEL : 1**   \n",
    "[문제링크](https://programmers.co.kr/learn/courses/30/lessons/12930)  "
   ]
  },
  {
   "cell_type": "code",
   "execution_count": 121,
   "id": "d3dfef2c",
   "metadata": {},
   "outputs": [],
   "source": [
    "s = \"try hello world \""
   ]
  },
  {
   "cell_type": "code",
   "execution_count": 122,
   "id": "c6172d49",
   "metadata": {},
   "outputs": [],
   "source": [
    "def solution(s):\n",
    "    s = s.split(' ')\n",
    "    \n",
    "    answer = []\n",
    "    for t in s:\n",
    "        tmp = ''\n",
    "        for i in range(len(t)):\n",
    "            if i%2==0: tmp+=t[i].upper()\n",
    "            else: tmp+=t[i].lower()\n",
    "        answer.extend(tmp+' ')\n",
    "        \n",
    "    if s[-1] == ' ':\n",
    "        return ''.join(answer)\n",
    "    else:\n",
    "        return ''.join(answer[:-1])"
   ]
  },
  {
   "cell_type": "code",
   "execution_count": 123,
   "id": "99f7aebd",
   "metadata": {},
   "outputs": [
    {
     "data": {
      "text/plain": [
       "'TrY HeLlO WoRlD '"
      ]
     },
     "execution_count": 123,
     "metadata": {},
     "output_type": "execute_result"
    }
   ],
   "source": [
    "solution(s)"
   ]
  }
 ],
 "metadata": {
  "kernelspec": {
   "display_name": "Python 3 (ipykernel)",
   "language": "python",
   "name": "python3"
  },
  "language_info": {
   "codemirror_mode": {
    "name": "ipython",
    "version": 3
   },
   "file_extension": ".py",
   "mimetype": "text/x-python",
   "name": "python",
   "nbconvert_exporter": "python",
   "pygments_lexer": "ipython3",
   "version": "3.8.5"
  }
 },
 "nbformat": 4,
 "nbformat_minor": 5
}
