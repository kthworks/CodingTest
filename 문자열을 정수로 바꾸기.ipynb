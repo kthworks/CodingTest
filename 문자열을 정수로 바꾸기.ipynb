{
 "cells": [
  {
   "cell_type": "markdown",
   "id": "9c876adb",
   "metadata": {},
   "source": [
    "**연습문제**  \n",
    "**LEVEL : 1**   \n",
    "[문제링크](https://programmers.co.kr/learn/courses/30/lessons/12925)  "
   ]
  },
  {
   "cell_type": "code",
   "execution_count": 9,
   "id": "f35cbaf3",
   "metadata": {},
   "outputs": [],
   "source": [
    "s = '-1234'"
   ]
  },
  {
   "cell_type": "code",
   "execution_count": 12,
   "id": "31e97bae",
   "metadata": {},
   "outputs": [],
   "source": [
    "def solution(s):\n",
    "    return int(s)"
   ]
  },
  {
   "cell_type": "code",
   "execution_count": 13,
   "id": "a925924b",
   "metadata": {},
   "outputs": [
    {
     "data": {
      "text/plain": [
       "-1234"
      ]
     },
     "execution_count": 13,
     "metadata": {},
     "output_type": "execute_result"
    }
   ],
   "source": [
    "solution(s)"
   ]
  }
 ],
 "metadata": {
  "kernelspec": {
   "display_name": "Python 3 (ipykernel)",
   "language": "python",
   "name": "python3"
  },
  "language_info": {
   "codemirror_mode": {
    "name": "ipython",
    "version": 3
   },
   "file_extension": ".py",
   "mimetype": "text/x-python",
   "name": "python",
   "nbconvert_exporter": "python",
   "pygments_lexer": "ipython3",
   "version": "3.8.5"
  }
 },
 "nbformat": 4,
 "nbformat_minor": 5
}
