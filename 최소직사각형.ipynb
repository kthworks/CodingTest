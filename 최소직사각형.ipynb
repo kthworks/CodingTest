{
 "cells": [
  {
   "cell_type": "markdown",
   "id": "ea3c6c71",
   "metadata": {},
   "source": [
    "**위클리 챌린지**\n",
    "**LEVEL : 1**\n",
    "[문제링크](https://programmers.co.kr/learn/courses/30/lessons/86491)"
   ]
  },
  {
   "cell_type": "code",
   "execution_count": 25,
   "id": "dab232b9",
   "metadata": {},
   "outputs": [],
   "source": [
    "sizes = [[10, 7], [12, 3], [8, 15], [14, 7], [5, 15]]"
   ]
  },
  {
   "cell_type": "code",
   "execution_count": 27,
   "id": "99d8c7c3",
   "metadata": {},
   "outputs": [],
   "source": [
    "def solution(sizes):\n",
    "    \n",
    "    import numpy as np\n",
    "    return int(np.max(np.array(sizes)[:])*max(np.min(np.array(sizes),axis=1)))"
   ]
  },
  {
   "cell_type": "code",
   "execution_count": 28,
   "id": "7e8ea77c",
   "metadata": {},
   "outputs": [
    {
     "data": {
      "text/plain": [
       "120"
      ]
     },
     "execution_count": 28,
     "metadata": {},
     "output_type": "execute_result"
    }
   ],
   "source": [
    "solution(sizes)"
   ]
  }
 ],
 "metadata": {
  "kernelspec": {
   "display_name": "Python 3 (ipykernel)",
   "language": "python",
   "name": "python3"
  },
  "language_info": {
   "codemirror_mode": {
    "name": "ipython",
    "version": 3
   },
   "file_extension": ".py",
   "mimetype": "text/x-python",
   "name": "python",
   "nbconvert_exporter": "python",
   "pygments_lexer": "ipython3",
   "version": "3.9.7"
  }
 },
 "nbformat": 4,
 "nbformat_minor": 5
}
