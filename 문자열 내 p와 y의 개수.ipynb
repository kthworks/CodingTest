{
 "cells": [
  {
   "cell_type": "markdown",
   "id": "6e5eab15",
   "metadata": {},
   "source": [
    "**연습문제**  \n",
    "**LEVEL : 1**   \n",
    "[문제링크](https://programmers.co.kr/learn/courses/30/lessons/12916)  "
   ]
  },
  {
   "cell_type": "code",
   "execution_count": 1,
   "id": "5c65f183",
   "metadata": {},
   "outputs": [],
   "source": [
    "s = \"pPoooyY\""
   ]
  },
  {
   "cell_type": "code",
   "execution_count": 2,
   "id": "6fb08a7a",
   "metadata": {},
   "outputs": [],
   "source": [
    "def solution(s):\n",
    "    \n",
    "    \n",
    "    s = s.lower()\n",
    "    nump = [p for p in s if p == 'p']\n",
    "    numy = [y for y in s if y == 'y']\n",
    "    \n",
    "    return len(nump)==len(numy)"
   ]
  },
  {
   "cell_type": "code",
   "execution_count": 4,
   "id": "316b5b5e",
   "metadata": {},
   "outputs": [
    {
     "data": {
      "text/plain": [
       "True"
      ]
     },
     "execution_count": 4,
     "metadata": {},
     "output_type": "execute_result"
    }
   ],
   "source": [
    "solution(s)"
   ]
  }
 ],
 "metadata": {
  "kernelspec": {
   "display_name": "Python 3 (ipykernel)",
   "language": "python",
   "name": "python3"
  },
  "language_info": {
   "codemirror_mode": {
    "name": "ipython",
    "version": 3
   },
   "file_extension": ".py",
   "mimetype": "text/x-python",
   "name": "python",
   "nbconvert_exporter": "python",
   "pygments_lexer": "ipython3",
   "version": "3.8.5"
  }
 },
 "nbformat": 4,
 "nbformat_minor": 5
}
