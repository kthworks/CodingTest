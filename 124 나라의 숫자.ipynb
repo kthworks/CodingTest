{
 "cells": [
  {
   "cell_type": "markdown",
   "id": "579f8e5a",
   "metadata": {},
   "source": [
    "**연습문제**  \n",
    "**LEVEL : 2**   \n",
    "[문제링크](https://programmers.co.kr/learn/courses/30/lessons/12899)  \n"
   ]
  },
  {
   "cell_type": "code",
   "execution_count": 40,
   "id": "864eadbd",
   "metadata": {},
   "outputs": [],
   "source": [
    "n = 100"
   ]
  },
  {
   "cell_type": "code",
   "execution_count": 41,
   "id": "0f4dfa81",
   "metadata": {},
   "outputs": [],
   "source": [
    "def solution(n):\n",
    "    \n",
    "    answer = ''\n",
    "    \n",
    "    while n>0:\n",
    "        \n",
    "        # 나누어 떨어지면 4를 반환하고 몫에서 1을 빼준 값을 n으로 다시 할당 (원래 3진법에서는 계수가 3일 수 없으므로)\n",
    "        if n%3 == 0:\n",
    "            answer += '4' \n",
    "            n = n//3 - 1\n",
    "            \n",
    "        # 나누어 떨어지지 않으면 정상적으로 나머지를 반환\n",
    "        else:\n",
    "            answer += str(n%3)\n",
    "            n //= 3\n",
    "    \n",
    "    return answer[::-1]"
   ]
  },
  {
   "cell_type": "code",
   "execution_count": 42,
   "id": "0cfdc8e6",
   "metadata": {},
   "outputs": [
    {
     "data": {
      "text/plain": [
       "'4141'"
      ]
     },
     "execution_count": 42,
     "metadata": {},
     "output_type": "execute_result"
    }
   ],
   "source": [
    "solution(n)"
   ]
  }
 ],
 "metadata": {
  "kernelspec": {
   "display_name": "Python 3 (ipykernel)",
   "language": "python",
   "name": "python3"
  },
  "language_info": {
   "codemirror_mode": {
    "name": "ipython",
    "version": 3
   },
   "file_extension": ".py",
   "mimetype": "text/x-python",
   "name": "python",
   "nbconvert_exporter": "python",
   "pygments_lexer": "ipython3",
   "version": "3.8.5"
  }
 },
 "nbformat": 4,
 "nbformat_minor": 5
}
