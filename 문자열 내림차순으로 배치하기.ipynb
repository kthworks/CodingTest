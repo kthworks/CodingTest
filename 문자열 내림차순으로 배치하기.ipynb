{
 "cells": [
  {
   "cell_type": "markdown",
   "id": "6cb86f30",
   "metadata": {},
   "source": [
    "**연습문제**  \n",
    "**LEVEL : 1**   \n",
    "[문제링크](https://programmers.co.kr/learn/courses/30/lessons/12917)  "
   ]
  },
  {
   "cell_type": "code",
   "execution_count": 24,
   "id": "19bf0b87",
   "metadata": {},
   "outputs": [],
   "source": [
    "s = \"Zbcdefg\""
   ]
  },
  {
   "cell_type": "code",
   "execution_count": 47,
   "id": "3ba49f3f",
   "metadata": {},
   "outputs": [],
   "source": [
    "def solution(s):\n",
    "    import re\n",
    "    up_compile = re.compile('[A-Z]')\n",
    "    low_compile = re.compile('[a-z]')\n",
    "    \n",
    "    upper = up_compile.findall(s)\n",
    "    upper.sort(reverse=True)\n",
    "    lower = low_compile.findall(s)\n",
    "    lower.sort(reverse=True)\n",
    "    \n",
    "    return ''.join(lower+upper)"
   ]
  },
  {
   "cell_type": "code",
   "execution_count": 49,
   "id": "172af5ec",
   "metadata": {},
   "outputs": [
    {
     "data": {
      "text/plain": [
       "'gfedcbZ'"
      ]
     },
     "execution_count": 49,
     "metadata": {},
     "output_type": "execute_result"
    }
   ],
   "source": [
    "solution(s)"
   ]
  }
 ],
 "metadata": {
  "kernelspec": {
   "display_name": "Python 3 (ipykernel)",
   "language": "python",
   "name": "python3"
  },
  "language_info": {
   "codemirror_mode": {
    "name": "ipython",
    "version": 3
   },
   "file_extension": ".py",
   "mimetype": "text/x-python",
   "name": "python",
   "nbconvert_exporter": "python",
   "pygments_lexer": "ipython3",
   "version": "3.8.5"
  }
 },
 "nbformat": 4,
 "nbformat_minor": 5
}
