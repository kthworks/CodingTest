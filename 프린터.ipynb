{
 "cells": [
  {
   "cell_type": "markdown",
   "id": "cffc8284",
   "metadata": {},
   "source": [
    "**스택/큐**  \n",
    "**LEVEL : 2**   \n",
    "[문제링크](https://programmers.co.kr/learn/courses/30/lessons/42587)  "
   ]
  },
  {
   "cell_type": "code",
   "execution_count": 2,
   "id": "514fdc00",
   "metadata": {},
   "outputs": [],
   "source": [
    "priorities = [1, 1, 9, 1, 1, 1]\n",
    "location = 0"
   ]
  },
  {
   "cell_type": "code",
   "execution_count": 3,
   "id": "648542bf",
   "metadata": {},
   "outputs": [],
   "source": [
    "def solution(priorities, location):\n",
    "    answer = []\n",
    "    \n",
    "    length = len(priorities)\n",
    "    dat = [[priorities[i],i] for i in range(len(priorities))]\n",
    "    \n",
    "    while len(answer) < length:\n",
    "        first = max([i[0] for i in dat])\n",
    "        \n",
    "        if dat[0][0] < first:\n",
    "            tmp = dat.pop(0)\n",
    "            dat.append(tmp)\n",
    "        else:\n",
    "            tmp = dat.pop(0)\n",
    "            answer.append(tmp)\n",
    "    \n",
    "    return answer.index([priorities[location],location])+1"
   ]
  },
  {
   "cell_type": "code",
   "execution_count": 5,
   "id": "41432a50",
   "metadata": {},
   "outputs": [
    {
     "data": {
      "text/plain": [
       "5"
      ]
     },
     "execution_count": 5,
     "metadata": {},
     "output_type": "execute_result"
    }
   ],
   "source": [
    "solution(priorities, location)"
   ]
  }
 ],
 "metadata": {
  "kernelspec": {
   "display_name": "Python 3 (ipykernel)",
   "language": "python",
   "name": "python3"
  },
  "language_info": {
   "codemirror_mode": {
    "name": "ipython",
    "version": 3
   },
   "file_extension": ".py",
   "mimetype": "text/x-python",
   "name": "python",
   "nbconvert_exporter": "python",
   "pygments_lexer": "ipython3",
   "version": "3.8.5"
  }
 },
 "nbformat": 4,
 "nbformat_minor": 5
}
