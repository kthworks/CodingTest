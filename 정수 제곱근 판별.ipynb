{
 "cells": [
  {
   "cell_type": "markdown",
   "id": "ce4be7ca",
   "metadata": {},
   "source": [
    "**연습문제**  \n",
    "**LEVEL : 1**   \n",
    "[문제링크](https://programmers.co.kr/learn/courses/30/lessons/12934)  "
   ]
  },
  {
   "cell_type": "code",
   "execution_count": 2,
   "id": "0b8c16e0",
   "metadata": {},
   "outputs": [],
   "source": [
    "n = 121"
   ]
  },
  {
   "cell_type": "code",
   "execution_count": 3,
   "id": "4acc8a5b",
   "metadata": {},
   "outputs": [],
   "source": [
    "def solution(n):\n",
    "    \n",
    "    if n // n**0.5 == n**0.5:\n",
    "        return (n**0.5+1)**2\n",
    "    else:\n",
    "        return -1"
   ]
  },
  {
   "cell_type": "code",
   "execution_count": 4,
   "id": "986ed116",
   "metadata": {},
   "outputs": [
    {
     "data": {
      "text/plain": [
       "144.0"
      ]
     },
     "execution_count": 4,
     "metadata": {},
     "output_type": "execute_result"
    }
   ],
   "source": [
    "solution(n)"
   ]
  }
 ],
 "metadata": {
  "kernelspec": {
   "display_name": "Python 3 (ipykernel)",
   "language": "python",
   "name": "python3"
  },
  "language_info": {
   "codemirror_mode": {
    "name": "ipython",
    "version": 3
   },
   "file_extension": ".py",
   "mimetype": "text/x-python",
   "name": "python",
   "nbconvert_exporter": "python",
   "pygments_lexer": "ipython3",
   "version": "3.8.5"
  }
 },
 "nbformat": 4,
 "nbformat_minor": 5
}
