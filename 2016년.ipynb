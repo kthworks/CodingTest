{
 "cells": [
  {
   "cell_type": "markdown",
   "id": "052759af",
   "metadata": {},
   "source": [
    "**연습문제**  \n",
    "**LEVEL : 1**\n",
    "\n",
    "[문제 링크](https://programmers.co.kr/learn/courses/30/lessons/12901)\n"
   ]
  },
  {
   "cell_type": "code",
   "execution_count": 1,
   "id": "7d36e36f",
   "metadata": {},
   "outputs": [],
   "source": [
    "a = 5\n",
    "b = 24"
   ]
  },
  {
   "cell_type": "code",
   "execution_count": 2,
   "id": "9115c91f",
   "metadata": {},
   "outputs": [],
   "source": [
    "def solution(a, b):\n",
    "    days = [31,29, 31, 30, 31, 30, 31, 31, 30, 31, 30, 31]\n",
    "    day = ['FRI', 'SAT', 'SUN', 'MON', 'TUE', 'WED', 'THU']\n",
    "    \n",
    "    nday = 0\n",
    "    for i in range(a-1):\n",
    "        nday += days[i]\n",
    "    \n",
    "    nday += b\n",
    "    answer = day[nday%7-1]\n",
    "    return answer"
   ]
  },
  {
   "cell_type": "code",
   "execution_count": 3,
   "id": "611eebd8",
   "metadata": {},
   "outputs": [
    {
     "data": {
      "text/plain": [
       "'TUE'"
      ]
     },
     "execution_count": 3,
     "metadata": {},
     "output_type": "execute_result"
    }
   ],
   "source": [
    "solution(a,b)"
   ]
  }
 ],
 "metadata": {
  "kernelspec": {
   "display_name": "Python 3 (ipykernel)",
   "language": "python",
   "name": "python3"
  },
  "language_info": {
   "codemirror_mode": {
    "name": "ipython",
    "version": 3
   },
   "file_extension": ".py",
   "mimetype": "text/x-python",
   "name": "python",
   "nbconvert_exporter": "python",
   "pygments_lexer": "ipython3",
   "version": "3.8.5"
  }
 },
 "nbformat": 4,
 "nbformat_minor": 5
}
