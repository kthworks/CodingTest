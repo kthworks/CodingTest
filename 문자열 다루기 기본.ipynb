{
 "cells": [
  {
   "cell_type": "markdown",
   "id": "1a7d0259",
   "metadata": {},
   "source": [
    "**연습문제**  \n",
    "**LEVEL : 1**   \n",
    "[문제링크](https://programmers.co.kr/learn/courses/30/lessons/12918)  "
   ]
  },
  {
   "cell_type": "code",
   "execution_count": 14,
   "id": "0f3ec636",
   "metadata": {},
   "outputs": [],
   "source": [
    "s = 'a1234'"
   ]
  },
  {
   "cell_type": "code",
   "execution_count": 15,
   "id": "913a81c3",
   "metadata": {},
   "outputs": [],
   "source": [
    "def solution(s):\n",
    "    import re \n",
    "    p = re.compile('[0-9]')\n",
    "    pp = p.findall(s)\n",
    "    return (len(pp)== 4 or len(pp)== 6) and (''.join(pp) == s)\n",
    "    "
   ]
  },
  {
   "cell_type": "code",
   "execution_count": 16,
   "id": "6f2eeea3",
   "metadata": {},
   "outputs": [
    {
     "data": {
      "text/plain": [
       "False"
      ]
     },
     "execution_count": 16,
     "metadata": {},
     "output_type": "execute_result"
    }
   ],
   "source": [
    "solution(s)"
   ]
  }
 ],
 "metadata": {
  "kernelspec": {
   "display_name": "Python 3 (ipykernel)",
   "language": "python",
   "name": "python3"
  },
  "language_info": {
   "codemirror_mode": {
    "name": "ipython",
    "version": 3
   },
   "file_extension": ".py",
   "mimetype": "text/x-python",
   "name": "python",
   "nbconvert_exporter": "python",
   "pygments_lexer": "ipython3",
   "version": "3.8.5"
  }
 },
 "nbformat": 4,
 "nbformat_minor": 5
}
